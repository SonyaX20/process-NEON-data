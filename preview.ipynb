{
 "cells": [
  {
   "cell_type": "markdown",
   "metadata": {},
   "source": [
    "# Forest biomass map of EU27 for 2020\n",
    "\n",
    "[⭐️info and data acecss](https://data.jrc.ec.europa.eu/dataset/6d2cb333-7a81-4249-af30-18b2a91a8a90) \\\n",
    "[⭐️official website](https://forest.jrc.ec.europa.eu/en/activities/forestbioeconomy/) \\\n",
    "[⭐️paper](https://www.nature.com/articles/s41597-023-02868-8)\n",
    "\n",
    "The aboveground biomass of the 27 European countries is derived from Sentinel-1, Sentinel-2, GEDI, PALSAR satellite data, combined with ground plot observations and machine learning/statistical model inversion.\n",
    "\n",
    "### Statistics\n",
    "\n",
    "| Biomass Range (t/ha) | 0, 623.171 |\n",
    "|---|---|\n",
    "| Biomass Range (kg/m^2) | 0, 6231.712 |\n",
    "\n",
    "<br>\n",
    "\n",
    "<div style=\"display: flex; justify-content: space-around;\">\n",
    "    <img src=\"src/spatial_overview.png\" style=\"width: 25%;\"/>\n",
    "    <img src=\"src/spatial_overview_1.png\" style=\"width: 25%;\"/>\n",
    "    <img src=\"src/histogram_qgis.png\" style=\"width: 25%;\"/>\n",
    "</div>\n",
    "\n",
    "\n"
   ]
  },
  {
   "cell_type": "markdown",
   "metadata": {},
   "source": [
    "## There's one tiff map..."
   ]
  },
  {
   "cell_type": "code",
   "execution_count": 10,
   "metadata": {},
   "outputs": [],
   "source": [
    "import rasterio\n",
    "import numpy as np\n",
    "import pandas as pd"
   ]
  },
  {
   "cell_type": "code",
   "execution_count": 6,
   "metadata": {},
   "outputs": [],
   "source": [
    "AGBM_PATH = 'data/eu27_biomass/AGB_2020_EU27/AGB_2020_EU27.tif'"
   ]
  },
  {
   "cell_type": "code",
   "execution_count": null,
   "metadata": {},
   "outputs": [
    {
     "name": "stdout",
     "output_type": "stream",
     "text": [
      "✅Loaded biomass data from data/eu27_biomass/AGB_2020_EU27.tif...\n",
      "📊Metadata of biomass:\n",
      "- driver: GTiff\n",
      "- dtype: float32\n",
      "- nodata: -3.4028234663852886e+38\n",
      "- width: 46803\n",
      "- height: 40299\n",
      "- count: 1\n",
      "- crs: PROJCS[\"ETRS_1989_Lambert_Azimuthal_Equal_Area\",GEOGCS[\"ETRS89\",DATUM[\"IRENET95\",SPHEROID[\"GRS 1980\",6378137,298.257222101]],PRIMEM[\"Greenwich\",0],UNIT[\"degree\",0.0174532925199433,AUTHORITY[\"EPSG\",\"9122\"]]],PROJECTION[\"Lambert_Azimuthal_Equal_Area\"],PARAMETER[\"latitude_of_center\",52],PARAMETER[\"longitude_of_center\",10],PARAMETER[\"false_easting\",4321000],PARAMETER[\"false_northing\",3210000],UNIT[\"metre\",1],AXIS[\"Easting\",EAST],AXIS[\"Northing\",NORTH]]\n",
      "- transform: | 100.00, 0.00, 2636000.00|\n",
      "| 0.00,-100.00, 5415900.00|\n",
      "| 0.00, 0.00, 1.00|\n",
      "- blockxsize: 128\n",
      "- blockysize: 128\n",
      "- tiled: True\n",
      "- compress: lzw\n",
      "- interleave: band\n",
      "- bounds: BoundingBox(left=2635999.999999998, bottom=1386000.0, right=7316299.999999998, top=5415900.0)\n",
      "- resolution: (100.0, 100.0) in meters\n"
     ]
    }
   ],
   "source": [
    "with rasterio.open(AGBM_PATH) as src:\n",
    "    print(f'✅Loaded biomass data from {AGBM_PATH}...')\n",
    "    print(\"📊Metadata of biomass:\")\n",
    "    profile = src.profile\n",
    "    for key, value in profile.items():\n",
    "        print(f\"- {key}: {value}\")\n",
    "    print(f\"- bounds: {src.bounds}\")\n",
    "    print(f\"- resolution: {src.res} in meters\")\n",
    "    band = src.read(1)\n",
    "    bounds = src.bounds\n"
   ]
  },
  {
   "cell_type": "code",
   "execution_count": 9,
   "metadata": {},
   "outputs": [
    {
     "name": "stdout",
     "output_type": "stream",
     "text": [
      "🔍 Filtering out nodata values...\n",
      "- valid data range: 0.0 to 623.1712036132812\n",
      "- percentage of valid data: 8.33%\n"
     ]
    }
   ],
   "source": [
    "print(f'🔍 Filtering out nodata values...')\n",
    "band_valid = np.ma.masked_where(band == src.nodata, band)\n",
    "print(f\"- valid data range: {np.min(band_valid)} to {np.max(band_valid)}\")\n",
    "print(f\"- percentage of valid data: {(~band_valid.mask).sum() / band.size * 100:.2f}%\")"
   ]
  },
  {
   "cell_type": "code",
   "execution_count": null,
   "metadata": {},
   "outputs": [],
   "source": []
  }
 ],
 "metadata": {
  "kernelspec": {
   "display_name": "Python 3 (ipykernel)",
   "language": "python",
   "name": "python3"
  },
  "language_info": {
   "codemirror_mode": {
    "name": "ipython",
    "version": 3
   },
   "file_extension": ".py",
   "mimetype": "text/x-python",
   "name": "python",
   "nbconvert_exporter": "python",
   "pygments_lexer": "ipython3",
   "version": "3.12.5"
  }
 },
 "nbformat": 4,
 "nbformat_minor": 2
}
